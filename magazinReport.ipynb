{
 "cells": [
  {
   "cell_type": "code",
   "execution_count": 1,
   "id": "faa04f86-6e85-4352-a094-766154633e02",
   "metadata": {
    "tags": []
   },
   "outputs": [],
   "source": [
    "import pandas as pd\n"
   ]
  },
  {
   "cell_type": "code",
   "execution_count": null,
   "id": "4104a892-9edd-462b-9823-7a1c42ed8aa6",
   "metadata": {
    "tags": []
   },
   "outputs": [],
   "source": [
    "data=pd.read_csv(\"1150haber.csv\")\n",
    "data"
   ]
  },
  {
   "cell_type": "code",
   "execution_count": null,
   "id": "45fa4e1b-663d-4e2e-a8ba-03169c6401fc",
   "metadata": {
    "tags": []
   },
   "outputs": [],
   "source": [
    "magazin=data[data[\"oz39699\"]==\"magazin\"]\n",
    "magazin"
   ]
  },
  {
   "cell_type": "code",
   "execution_count": null,
   "id": "9d3c0eed-f0e1-4a0c-b3dd-fcd7f7f52100",
   "metadata": {
    "tags": []
   },
   "outputs": [],
   "source": [
    "magazin.head()"
   ]
  },
  {
   "cell_type": "code",
   "execution_count": null,
   "id": "6c90829d-459e-4ed1-b698-80c62e4e115d",
   "metadata": {
    "tags": []
   },
   "outputs": [],
   "source": [
    "magazin.shape\n"
   ]
  },
  {
   "cell_type": "code",
   "execution_count": null,
   "id": "8cca9c38-4b9d-476c-877f-fd42320515b0",
   "metadata": {
    "tags": []
   },
   "outputs": [],
   "source": [
    "magazin = magazin.drop(magazin.columns[:34], axis=1)"
   ]
  },
  {
   "cell_type": "code",
   "execution_count": null,
   "id": "ffffc815-699d-4a59-9df6-662ca06fd525",
   "metadata": {
    "tags": []
   },
   "outputs": [],
   "source": [
    "magazin = magazin.drop(magazin.columns[8206:39698], axis=1)"
   ]
  },
  {
   "cell_type": "code",
   "execution_count": null,
   "id": "fbd2e406-e391-4c24-87bc-d2ded246a485",
   "metadata": {
    "tags": []
   },
   "outputs": [],
   "source": [
    "magazin = magazin.loc[:, (magazin != 0).any(axis=0)]\n",
    "\n",
    "magazin.shape"
   ]
  },
  {
   "cell_type": "code",
   "execution_count": null,
   "id": "cd634e6f-260a-482a-89c3-6e99959b1b7d",
   "metadata": {
    "tags": []
   },
   "outputs": [],
   "source": [
    "magazin"
   ]
  },
  {
   "cell_type": "code",
   "execution_count": null,
   "id": "864e228b-04d6-46c2-b7b9-0d8c39829ed8",
   "metadata": {
    "tags": []
   },
   "outputs": [],
   "source": [
    "import matplotlib.pyplot as plt\n",
    "import seaborn as sns\n",
    "\n",
    "r=magazin.sum(axis=0).sort_values(ascending=False)[:30]\n",
    "plt.figure(figsize=(20,10))\n",
    "s=sns.barplot(x=r.index,y=r.values)\n",
    "s.set_xticklabels(s.get_xticklabels(), rotation=90)\n",
    "\n",
    "plt.show()"
   ]
  },
  {
   "cell_type": "code",
   "execution_count": null,
   "id": "02a2c6cc-ac87-49a0-bff2-d8d1e1d4562d",
   "metadata": {
    "tags": []
   },
   "outputs": [],
   "source": [
    "#magazin[magazin != 0] = 1\n",
    "\n",
    "magazin = magazin.astype(bool)\n",
    "magazin.head()\n"
   ]
  },
  {
   "cell_type": "code",
   "execution_count": null,
   "id": "171daad9-79e5-4bb1-ac6b-88c05303aef9",
   "metadata": {
    "tags": []
   },
   "outputs": [],
   "source": [
    "r=magazin.sum(axis=0).sort_values(ascending=False)[:30]\n",
    "plt.figure(figsize=(20,10))\n",
    "s=sns.barplot(x=r.index,y=r.values)\n",
    "s.set_xticklabels(s.get_xticklabels(), rotation=90)\n",
    "\n",
    "plt.show()"
   ]
  },
  {
   "cell_type": "code",
   "execution_count": null,
   "id": "438cc46a-0efa-44ab-9a5f-d4acc89d4127",
   "metadata": {
    "tags": []
   },
   "outputs": [],
   "source": [
    "from mlxtend.frequent_patterns import fpgrowth\n",
    "dv = fpgrowth(magazin, min_support=0.6, max_len=2,use_colnames=True)\n",
    "dv"
   ]
  },
  {
   "cell_type": "code",
   "execution_count": null,
   "id": "6592848c-9f19-4847-8aa8-456401424076",
   "metadata": {
    "tags": []
   },
   "outputs": [],
   "source": [
    "# dv değeri item değerinin yada {oz39, oz59} kaç defa göründüğü/Satır sayısı\n",
    "dv.loc[:20,:]"
   ]
  },
  {
   "cell_type": "code",
   "execution_count": null,
   "id": "96ddfe71-84f8-49d0-8658-df6a70772131",
   "metadata": {},
   "outputs": [],
   "source": []
  }
 ],
 "metadata": {
  "kernelspec": {
   "display_name": "Python 3 (ipykernel)",
   "language": "python",
   "name": "python3"
  },
  "language_info": {
   "codemirror_mode": {
    "name": "ipython",
    "version": 3
   },
   "file_extension": ".py",
   "mimetype": "text/x-python",
   "name": "python",
   "nbconvert_exporter": "python",
   "pygments_lexer": "ipython3",
   "version": "3.11.5"
  }
 },
 "nbformat": 4,
 "nbformat_minor": 5
}
